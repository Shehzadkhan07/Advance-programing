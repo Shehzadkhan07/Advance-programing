{
 "cells": [
  {
   "cell_type": "code",
   "execution_count": null,
   "id": "5ee8c191",
   "metadata": {},
   "outputs": [],
   "source": [
    "import pandas as pd\n",
    "\n",
    "data = {\n",
    "  \n",
    "  \"name\": [\"A\", \"b\",\"c\"],\n",
    "  \"mobile\":[123,123,454],\n",
    "  \"gender\" :[\"m\",\"m\",\"m\"],\n",
    "  \"section\":[\"A\",\"B\",\"C\"]  \n",
    "    \n",
    "  \n",
    "}\n",
    "\n",
    "#load data into a DataFrame object:\n",
    "df = pd.DataFrame(data, index = [\"sudent1\", \"sudent2\", \"student 3\"])\n",
    "\n",
    "print(df) "
   ]
  }
 ],
 "metadata": {
  "kernelspec": {
   "display_name": "Python 3",
   "language": "python",
   "name": "python3"
  },
  "language_info": {
   "codemirror_mode": {
    "name": "ipython",
    "version": 3
   },
   "file_extension": ".py",
   "mimetype": "text/x-python",
   "name": "python",
   "nbconvert_exporter": "python",
   "pygments_lexer": "ipython3",
   "version": "3.8.8"
  }
 },
 "nbformat": 4,
 "nbformat_minor": 5
}
